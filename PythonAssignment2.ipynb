{
 "cells": [
  {
   "cell_type": "markdown",
   "metadata": {},
   "source": [
    "# Part 1:"
   ]
  },
  {
   "cell_type": "code",
   "execution_count": 427,
   "metadata": {},
   "outputs": [],
   "source": [
    "#Import modules\n",
    "import pandas as pd\n",
    "import numpy as np\n",
    "from matplotlib import pyplot as plt"
   ]
  },
  {
   "cell_type": "code",
   "execution_count": 428,
   "metadata": {
    "scrolled": true
   },
   "outputs": [
    {
     "data": {
      "text/html": [
       "<div>\n",
       "<style scoped>\n",
       "    .dataframe tbody tr th:only-of-type {\n",
       "        vertical-align: middle;\n",
       "    }\n",
       "\n",
       "    .dataframe tbody tr th {\n",
       "        vertical-align: top;\n",
       "    }\n",
       "\n",
       "    .dataframe thead th {\n",
       "        text-align: right;\n",
       "    }\n",
       "</style>\n",
       "<table border=\"1\" class=\"dataframe\">\n",
       "  <thead>\n",
       "    <tr style=\"text-align: right;\">\n",
       "      <th></th>\n",
       "      <th>sample</th>\n",
       "      <th>date</th>\n",
       "      <th>Temperature</th>\n",
       "      <th>Humidity</th>\n",
       "      <th>Light</th>\n",
       "      <th>CO2</th>\n",
       "      <th>HumidityRatio</th>\n",
       "      <th>Occupancy</th>\n",
       "    </tr>\n",
       "  </thead>\n",
       "  <tbody>\n",
       "    <tr>\n",
       "      <th>0</th>\n",
       "      <td>1</td>\n",
       "      <td>2/4/2015 17:51</td>\n",
       "      <td>23.18</td>\n",
       "      <td>27.2720</td>\n",
       "      <td>426.0</td>\n",
       "      <td>721.250000</td>\n",
       "      <td>0.004793</td>\n",
       "      <td>1</td>\n",
       "    </tr>\n",
       "    <tr>\n",
       "      <th>1</th>\n",
       "      <td>2</td>\n",
       "      <td>2/4/2015 17:51</td>\n",
       "      <td>23.15</td>\n",
       "      <td>27.2675</td>\n",
       "      <td>429.5</td>\n",
       "      <td>714.000000</td>\n",
       "      <td>0.004783</td>\n",
       "      <td>1</td>\n",
       "    </tr>\n",
       "    <tr>\n",
       "      <th>2</th>\n",
       "      <td>3</td>\n",
       "      <td>2/4/2015 17:53</td>\n",
       "      <td>23.15</td>\n",
       "      <td>27.2450</td>\n",
       "      <td>426.0</td>\n",
       "      <td>713.500000</td>\n",
       "      <td>0.004779</td>\n",
       "      <td>1</td>\n",
       "    </tr>\n",
       "    <tr>\n",
       "      <th>3</th>\n",
       "      <td>4</td>\n",
       "      <td>2/4/2015 17:54</td>\n",
       "      <td>23.15</td>\n",
       "      <td>27.2000</td>\n",
       "      <td>426.0</td>\n",
       "      <td>708.250000</td>\n",
       "      <td>0.004772</td>\n",
       "      <td>1</td>\n",
       "    </tr>\n",
       "    <tr>\n",
       "      <th>4</th>\n",
       "      <td>5</td>\n",
       "      <td>2/4/2015 17:55</td>\n",
       "      <td>23.10</td>\n",
       "      <td>27.2000</td>\n",
       "      <td>426.0</td>\n",
       "      <td>704.500000</td>\n",
       "      <td>0.004757</td>\n",
       "      <td>1</td>\n",
       "    </tr>\n",
       "    <tr>\n",
       "      <th>...</th>\n",
       "      <td>...</td>\n",
       "      <td>...</td>\n",
       "      <td>...</td>\n",
       "      <td>...</td>\n",
       "      <td>...</td>\n",
       "      <td>...</td>\n",
       "      <td>...</td>\n",
       "      <td>...</td>\n",
       "    </tr>\n",
       "    <tr>\n",
       "      <th>8138</th>\n",
       "      <td>8139</td>\n",
       "      <td>2/10/2015 9:29</td>\n",
       "      <td>21.05</td>\n",
       "      <td>36.0975</td>\n",
       "      <td>433.0</td>\n",
       "      <td>787.250000</td>\n",
       "      <td>0.005579</td>\n",
       "      <td>1</td>\n",
       "    </tr>\n",
       "    <tr>\n",
       "      <th>8139</th>\n",
       "      <td>8140</td>\n",
       "      <td>2/10/2015 9:29</td>\n",
       "      <td>21.05</td>\n",
       "      <td>35.9950</td>\n",
       "      <td>433.0</td>\n",
       "      <td>789.500000</td>\n",
       "      <td>0.005563</td>\n",
       "      <td>1</td>\n",
       "    </tr>\n",
       "    <tr>\n",
       "      <th>8140</th>\n",
       "      <td>8141</td>\n",
       "      <td>2/10/2015 9:30</td>\n",
       "      <td>21.10</td>\n",
       "      <td>36.0950</td>\n",
       "      <td>433.0</td>\n",
       "      <td>798.500000</td>\n",
       "      <td>0.005596</td>\n",
       "      <td>1</td>\n",
       "    </tr>\n",
       "    <tr>\n",
       "      <th>8141</th>\n",
       "      <td>8142</td>\n",
       "      <td>2/10/2015 9:32</td>\n",
       "      <td>21.10</td>\n",
       "      <td>36.2600</td>\n",
       "      <td>433.0</td>\n",
       "      <td>820.333333</td>\n",
       "      <td>0.005621</td>\n",
       "      <td>1</td>\n",
       "    </tr>\n",
       "    <tr>\n",
       "      <th>8142</th>\n",
       "      <td>8143</td>\n",
       "      <td>2/10/2015 9:33</td>\n",
       "      <td>21.10</td>\n",
       "      <td>36.2000</td>\n",
       "      <td>447.0</td>\n",
       "      <td>821.000000</td>\n",
       "      <td>0.005612</td>\n",
       "      <td>1</td>\n",
       "    </tr>\n",
       "  </tbody>\n",
       "</table>\n",
       "<p>8143 rows × 8 columns</p>\n",
       "</div>"
      ],
      "text/plain": [
       "      sample            date  Temperature  Humidity  Light         CO2  \\\n",
       "0          1  2/4/2015 17:51        23.18   27.2720  426.0  721.250000   \n",
       "1          2  2/4/2015 17:51        23.15   27.2675  429.5  714.000000   \n",
       "2          3  2/4/2015 17:53        23.15   27.2450  426.0  713.500000   \n",
       "3          4  2/4/2015 17:54        23.15   27.2000  426.0  708.250000   \n",
       "4          5  2/4/2015 17:55        23.10   27.2000  426.0  704.500000   \n",
       "...      ...             ...          ...       ...    ...         ...   \n",
       "8138    8139  2/10/2015 9:29        21.05   36.0975  433.0  787.250000   \n",
       "8139    8140  2/10/2015 9:29        21.05   35.9950  433.0  789.500000   \n",
       "8140    8141  2/10/2015 9:30        21.10   36.0950  433.0  798.500000   \n",
       "8141    8142  2/10/2015 9:32        21.10   36.2600  433.0  820.333333   \n",
       "8142    8143  2/10/2015 9:33        21.10   36.2000  447.0  821.000000   \n",
       "\n",
       "      HumidityRatio  Occupancy  \n",
       "0          0.004793          1  \n",
       "1          0.004783          1  \n",
       "2          0.004779          1  \n",
       "3          0.004772          1  \n",
       "4          0.004757          1  \n",
       "...             ...        ...  \n",
       "8138       0.005579          1  \n",
       "8139       0.005563          1  \n",
       "8140       0.005596          1  \n",
       "8141       0.005621          1  \n",
       "8142       0.005612          1  \n",
       "\n",
       "[8143 rows x 8 columns]"
      ]
     },
     "execution_count": 428,
     "metadata": {},
     "output_type": "execute_result"
    }
   ],
   "source": [
    "#Declare 2 empty lists\n",
    "occuList=[]\n",
    "occuDF =[]\n",
    "def csv_to_list(filename):\n",
    "  df = pd.read_csv('occupancy.csv')\n",
    " \n",
    "  for index, rows in df.iterrows():\n",
    "    # Create list for the current row\n",
    "    list  =[rows.sample,rows.date,rows.Temperature,rows.Humidity,rows.Light,rows.CO2,rows.HumidityRatio,rows.Occupancy]\n",
    "      \n",
    "    # append the list to the final list\n",
    "    occuList.append(list)\n",
    "  \n",
    "  \n",
    "  return df;\n",
    "# Now we call function to fll the required lists\n",
    "occuDF=csv_to_list(filename ='occupancy.csv')\n",
    "occuDF"
   ]
  },
  {
   "cell_type": "code",
   "execution_count": 429,
   "metadata": {},
   "outputs": [
    {
     "name": "stdout",
     "output_type": "stream",
     "text": [
      "      sample            date  Temperature  Humidity  Light         CO2  \\\n",
      "0          1  2/4/2015 17:51        23.18   27.2720  426.0  721.250000   \n",
      "1          2  2/4/2015 17:51        23.15   27.2675  429.5  714.000000   \n",
      "2          3  2/4/2015 17:53        23.15   27.2450  426.0  713.500000   \n",
      "3          4  2/4/2015 17:54        23.15   27.2000  426.0  708.250000   \n",
      "4          5  2/4/2015 17:55        23.10   27.2000  426.0  704.500000   \n",
      "...      ...             ...          ...       ...    ...         ...   \n",
      "8138    8139  2/10/2015 9:29        21.05   36.0975  433.0  787.250000   \n",
      "8139    8140  2/10/2015 9:29        21.05   35.9950  433.0  789.500000   \n",
      "8140    8141  2/10/2015 9:30        21.10   36.0950  433.0  798.500000   \n",
      "8141    8142  2/10/2015 9:32        21.10   36.2600  433.0  820.333333   \n",
      "8142    8143  2/10/2015 9:33        21.10   36.2000  447.0  821.000000   \n",
      "\n",
      "      HumidityRatio  Occupancy  \n",
      "0          0.004793          1  \n",
      "1          0.004783          1  \n",
      "2          0.004779          1  \n",
      "3          0.004772          1  \n",
      "4          0.004757          1  \n",
      "...             ...        ...  \n",
      "8138       0.005579          1  \n",
      "8139       0.005563          1  \n",
      "8140       0.005596          1  \n",
      "8141       0.005621          1  \n",
      "8142       0.005612          1  \n",
      "\n",
      "[8143 rows x 8 columns]\n"
     ]
    }
   ],
   "source": [
    "print(occuDF)"
   ]
  },
  {
   "cell_type": "code",
   "execution_count": 430,
   "metadata": {},
   "outputs": [
    {
     "name": "stdout",
     "output_type": "stream",
     "text": [
      "[<bound method NDFrame.sample of sample                        1\n",
      "date             2/4/2015 17:51\n",
      "Temperature               23.18\n",
      "Humidity                 27.272\n",
      "Light                       426\n",
      "CO2                      721.25\n",
      "HumidityRatio        0.00479299\n",
      "Occupancy                     1\n",
      "Name: 0, dtype: object>, '2/4/2015 17:51', 23.18, 27.272, 426.0, 721.25, 0.004792988, 1]\n"
     ]
    }
   ],
   "source": [
    "print(occuList[0])  # 0 index list row"
   ]
  },
  {
   "cell_type": "code",
   "execution_count": 431,
   "metadata": {},
   "outputs": [
    {
     "data": {
      "text/html": [
       "<div>\n",
       "<style scoped>\n",
       "    .dataframe tbody tr th:only-of-type {\n",
       "        vertical-align: middle;\n",
       "    }\n",
       "\n",
       "    .dataframe tbody tr th {\n",
       "        vertical-align: top;\n",
       "    }\n",
       "\n",
       "    .dataframe thead th {\n",
       "        text-align: right;\n",
       "    }\n",
       "</style>\n",
       "<table border=\"1\" class=\"dataframe\">\n",
       "  <thead>\n",
       "    <tr style=\"text-align: right;\">\n",
       "      <th></th>\n",
       "      <th>Occupancy</th>\n",
       "      <th>Temperature</th>\n",
       "    </tr>\n",
       "  </thead>\n",
       "  <tbody>\n",
       "    <tr>\n",
       "      <th>0</th>\n",
       "      <td>1</td>\n",
       "      <td>23.180</td>\n",
       "    </tr>\n",
       "    <tr>\n",
       "      <th>1</th>\n",
       "      <td>1</td>\n",
       "      <td>23.150</td>\n",
       "    </tr>\n",
       "    <tr>\n",
       "      <th>2</th>\n",
       "      <td>1</td>\n",
       "      <td>23.150</td>\n",
       "    </tr>\n",
       "    <tr>\n",
       "      <th>3</th>\n",
       "      <td>1</td>\n",
       "      <td>23.150</td>\n",
       "    </tr>\n",
       "    <tr>\n",
       "      <th>4</th>\n",
       "      <td>1</td>\n",
       "      <td>23.100</td>\n",
       "    </tr>\n",
       "    <tr>\n",
       "      <th>5</th>\n",
       "      <td>1</td>\n",
       "      <td>23.100</td>\n",
       "    </tr>\n",
       "    <tr>\n",
       "      <th>6</th>\n",
       "      <td>1</td>\n",
       "      <td>23.100</td>\n",
       "    </tr>\n",
       "    <tr>\n",
       "      <th>7</th>\n",
       "      <td>1</td>\n",
       "      <td>23.100</td>\n",
       "    </tr>\n",
       "    <tr>\n",
       "      <th>8</th>\n",
       "      <td>1</td>\n",
       "      <td>23.100</td>\n",
       "    </tr>\n",
       "    <tr>\n",
       "      <th>9</th>\n",
       "      <td>1</td>\n",
       "      <td>23.075</td>\n",
       "    </tr>\n",
       "  </tbody>\n",
       "</table>\n",
       "</div>"
      ],
      "text/plain": [
       "   Occupancy  Temperature\n",
       "0          1       23.180\n",
       "1          1       23.150\n",
       "2          1       23.150\n",
       "3          1       23.150\n",
       "4          1       23.100\n",
       "5          1       23.100\n",
       "6          1       23.100\n",
       "7          1       23.100\n",
       "8          1       23.100\n",
       "9          1       23.075"
      ]
     },
     "execution_count": 431,
     "metadata": {},
     "output_type": "execute_result"
    }
   ],
   "source": [
    "#Extract columns for plotting \n",
    "columns = occuDF[[\"Occupancy\", \"Temperature\"]] \n",
    "columns.head(10)"
   ]
  },
  {
   "cell_type": "code",
   "execution_count": 432,
   "metadata": {},
   "outputs": [
    {
     "data": {
      "text/plain": [
       "0     1\n",
       "1     1\n",
       "2     1\n",
       "3     1\n",
       "4     1\n",
       "     ..\n",
       "95    0\n",
       "96    0\n",
       "97    0\n",
       "98    0\n",
       "99    0\n",
       "Name: Occupancy, Length: 100, dtype: int64"
      ]
     },
     "execution_count": 432,
     "metadata": {},
     "output_type": "execute_result"
    }
   ],
   "source": [
    "#X column\n",
    "x = occuDF[\"Occupancy\"].head(100)\n",
    "x"
   ]
  },
  {
   "cell_type": "code",
   "execution_count": 433,
   "metadata": {
    "scrolled": true
   },
   "outputs": [
    {
     "data": {
      "text/plain": [
       "0     23.18\n",
       "1     23.15\n",
       "2     23.15\n",
       "3     23.15\n",
       "4     23.10\n",
       "      ...  \n",
       "95    22.10\n",
       "96    22.10\n",
       "97    22.10\n",
       "98    22.10\n",
       "99    22.10\n",
       "Name: Temperature, Length: 100, dtype: float64"
      ]
     },
     "execution_count": 433,
     "metadata": {},
     "output_type": "execute_result"
    }
   ],
   "source": [
    "#Y column\n",
    "y = occuDF[\"Temperature\"].head(100)\n",
    "y"
   ]
  },
  {
   "cell_type": "code",
   "execution_count": 434,
   "metadata": {},
   "outputs": [
    {
     "data": {
      "image/png": "[encoded data removed]",
      "text/plain": [
       "<Figure size 432x288 with 1 Axes>"
      ]
     },
     "metadata": {
      "needs_background": "light"
     },
     "output_type": "display_data"
    }
   ],
   "source": [
    "rng = np.random.RandomState(0)\n",
    "colors = rng.rand(100)\n",
    "plt.scatter(x, y, c=colors) \n",
    "\n",
    " # naming the x axis \n",
    "plt.xlabel('Occupancy') \n",
    " # naming the y axis \n",
    "plt.ylabel('Temperature') \n",
    "\n",
    " # giving a title to my graph \n",
    "plt.title('Temperature vs Occupancy!') \n",
    "\n",
    " # function to show the plot \n",
    "plt.show() "
   ]
  },
  {
   "cell_type": "markdown",
   "metadata": {},
   "source": [
    "# Part 2:"
   ]
  },
  {
   "cell_type": "code",
   "execution_count": 435,
   "metadata": {},
   "outputs": [],
   "source": [
    "import datetime\n",
    "import numpy as np"
   ]
  },
  {
   "cell_type": "code",
   "execution_count": 436,
   "metadata": {},
   "outputs": [],
   "source": [
    "date = \"2015-02-04 17:51:00\"\n",
    "dateStr =datetime.datetime.strptime(date, '%Y-%m-%d %H:%M:%S')   # Convert the date to date string to build desired functionality"
   ]
  },
  {
   "cell_type": "code",
   "execution_count": 437,
   "metadata": {},
   "outputs": [
    {
     "name": "stdout",
     "output_type": "stream",
     "text": [
      "2015-02-04 17:51:00\n"
     ]
    }
   ],
   "source": [
    "print(dateStr)"
   ]
  },
  {
   "cell_type": "code",
   "execution_count": 438,
   "metadata": {},
   "outputs": [],
   "source": [
    "#Declare 2 empty lists\n",
    "hours=[]\n",
    "minutes=[]\n",
    "def calculate(hour, minute):\n",
    "   hours.append(hour);\n",
    "   minutes.append(minute)\n",
    "   \n",
    "   return;\n",
    "\n",
    "# Now you can call calculate function to fll the required lists\n",
    "calculate(hour = dateStr.hour,minute=dateStr.minute)"
   ]
  },
  {
   "cell_type": "code",
   "execution_count": 439,
   "metadata": {},
   "outputs": [
    {
     "name": "stdout",
     "output_type": "stream",
     "text": [
      "[17]\n"
     ]
    }
   ],
   "source": [
    "print(hours)"
   ]
  },
  {
   "cell_type": "code",
   "execution_count": 440,
   "metadata": {
    "scrolled": true
   },
   "outputs": [
    {
     "name": "stdout",
     "output_type": "stream",
     "text": [
      "[51]\n"
     ]
    }
   ],
   "source": [
    "print(minutes)"
   ]
  },
  {
   "cell_type": "markdown",
   "metadata": {},
   "source": [
    "# Part 3:"
   ]
  },
  {
   "cell_type": "code",
   "execution_count": 441,
   "metadata": {},
   "outputs": [
    {
     "name": "stdout",
     "output_type": "stream",
     "text": [
      "8143\n"
     ]
    }
   ],
   "source": [
    "print(len(occuDF.index))"
   ]
  },
  {
   "cell_type": "code",
   "execution_count": 442,
   "metadata": {},
   "outputs": [],
   "source": [
    "# Function for plotting Scattter Plot\n",
    "def retrieve_columns(dataframe , column1, column2, lagPlott = True):\n",
    "    if lagPlott ==\"true\" :\n",
    "     # plotting the points\n",
    "     x=occuDF[column1]\n",
    "     y=occuDF[column2]  \n",
    "     rng = np.random.RandomState(0)\n",
    "     colors = rng.rand(8143)\n",
    "     area = np.pi*3\n",
    "     #print(colum1)\n",
    "     #print(colum2)\n",
    "     plt.scatter(x, y, c=colors)\n",
    "     #plt.plot(x,y) \n",
    "\n",
    "     # naming the x axis \n",
    "     plt.xlabel(column1) \n",
    "        \n",
    "     # naming the y axis \n",
    "     plt.ylabel(column2) \n",
    "\n",
    "     # giving a title to my graph \n",
    "     plt.title('Scatter Plot!') \n",
    "\n",
    "     # function to show the plot \n",
    "     plt.show() \n",
    "    \n",
    "    else:\n",
    "     print(\"false\")"
   ]
  },
  {
   "cell_type": "code",
   "execution_count": 443,
   "metadata": {
    "scrolled": true
   },
   "outputs": [
    {
     "data": {
      "image/png": "[encoded data removed]",
      "text/plain": [
       "<Figure size 432x288 with 1 Axes>"
      ]
     },
     "metadata": {
      "needs_background": "light"
     },
     "output_type": "display_data"
    }
   ],
   "source": [
    "retrieve_columns(occuDF, \"Humidity\", \"CO2\", lagPlott = \"true\")"
   ]
  }
 ],
 "metadata": {
  "kernelspec": {
   "display_name": "Python 3",
   "language": "python",
   "name": "python3"
  },
  "language_info": {
   "codemirror_mode": {
    "name": "ipython",
    "version": 3
   },
   "file_extension": ".py",
   "mimetype": "text/x-python",
   "name": "python",
   "nbconvert_exporter": "python",
   "pygments_lexer": "ipython3",
   "version": "3.8.5"
  }
 },
 "nbformat": 4,
 "nbformat_minor": 4
}
